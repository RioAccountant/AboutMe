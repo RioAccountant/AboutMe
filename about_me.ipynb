{
  "nbformat": 4,
  "nbformat_minor": 0,
  "metadata": {
    "colab": {
      "provenance": [],
      "toc_visible": true,
      "authorship_tag": "ABX9TyOFZerGmDwNcOWEEtY2y1nY",
      "include_colab_link": true
    },
    "kernelspec": {
      "name": "python3",
      "display_name": "Python 3"
    },
    "language_info": {
      "name": "python"
    }
  },
  "cells": [
    {
      "cell_type": "markdown",
      "metadata": {
        "id": "view-in-github",
        "colab_type": "text"
      },
      "source": [
        "<a href=\"https://colab.research.google.com/github/RioAccountant/AboutMe2/blob/main/about_me.ipynb\" target=\"_parent\"><img src=\"https://colab.research.google.com/assets/colab-badge.svg\" alt=\"Open In Colab\"/></a>"
      ]
    },
    {
      "cell_type": "code",
      "execution_count": null,
      "metadata": {
        "id": "MiL1M7wa3aUt"
      },
      "outputs": [],
      "source": []
    },
    {
      "cell_type": "markdown",
      "source": [
        "**ANNA D. LOVATO**\n",
        "\n",
        ">I signed up for this bootcamp as a way to pivot my career in *mid-life* and if I were to exhange my head for that of an animal it would be a cat with beautiful eyes with great vision.\n",
        "\n",
        ">>The 3 apps that I would not ever delete from my phone would be:\n",
        "1.   Text\n",
        "2.   Cash App\n",
        "3.   Preferred Health Tracker\n",
        "\n",
        ">>My 3 favorite podcasts, not necessarily in order are:\n",
        "\n",
        "*   The Huberman Lab\n",
        "*   The Drive, by Peter Attia\n",
        "*   Mel Robins\n",
        "\n",
        "As an introvert I keep to myself and don't participate in group activities but do enjoy yoga, strength training, and swimming.  These activities have helped me to decompress from a stressful career as an accountant.\n",
        "\n",
        "On LinkedIn I can be found here [A link] (https:www.linkedin.com/in/\n",
        "anna-lovato-rioaccountant)\n",
        "\n",
        "In my life I focus on these items:\n",
        "\n",
        "Item|Comment\n",
        "------|---------\n",
        "Health|Because Without Health you have Nothing\n",
        "Continuous Learning|Because is you are not growing you are shrinking\n",
        "Diet|Fuel for the Body and Brain\n",
        "Family|Because we do not exist in isolation"
      ],
      "metadata": {
        "id": "cpPFu2Tb4Ck7"
      }
    },
    {
      "cell_type": "markdown",
      "source": [],
      "metadata": {
        "id": "wJPABLtHGs66"
      }
    },
    {
      "cell_type": "markdown",
      "source": [],
      "metadata": {
        "id": "qqFGeoJoGqUh"
      }
    },
    {
      "cell_type": "markdown",
      "source": [],
      "metadata": {
        "id": "EGcilMZKGo87"
      }
    },
    {
      "cell_type": "markdown",
      "source": [
        "![An image](https://www.google.com/search?q=wikipedia+images+free+brain+muscles+images&sca_esv=414fa47fd96e69ee&sca_upv=1&sxsrf=ADLYWIKRD8pmsMXcOYeFnqaaN8TXE3j9KQ%3A1727115163332&ei=m6_xZuCCFLTaptQPp-HQGQ&oq=wikipedia+images+free+brain+muscle&gs_lp=Egxnd3Mtd2l6LXNlcnAiIndpa2lwZWRpYSBpbWFnZXMgZnJlZSBicmFpbiBtdXNjbGUqAggBMgUQIRigATIFECEYoAEyBRAhGKABMgUQIRigATIFECEYnwUyBRAhGJ8FMgUQIRifBUiqV1CMCVi5RXABeAGQAQCYAckBoAH7EqoBBjAuMTcuMbgBAcgBAPgBAZgCEqACtRLCAgoQABiwAxjWBBhHwgIKEAAYgAQYQxiKBcICBhAAGBYYHsICCxAAGIAEGIYDGIoFwgIIEAAYgAQYogTCAgUQIRirApgDAIgGAZAGCJIHBjEuMTYuMaAHwGw&sclient=gws-wiz-serp#vhid=1UMnwFasbHfJWM&vssid=l)"
      ],
      "metadata": {
        "id": "f7vUaoDOA6R2"
      }
    },
    {
      "cell_type": "markdown",
      "source": [
        "# New Section"
      ],
      "metadata": {
        "id": "-fl077M1A5FF"
      }
    },
    {
      "cell_type": "code",
      "source": [],
      "metadata": {
        "id": "hyKEOd6OAUHO"
      },
      "execution_count": null,
      "outputs": []
    },
    {
      "cell_type": "code",
      "source": [],
      "metadata": {
        "id": "IdfxOXjZAUVQ"
      },
      "execution_count": null,
      "outputs": []
    },
    {
      "cell_type": "markdown",
      "source": [],
      "metadata": {
        "id": "L1c_8ZZlAUmv"
      }
    },
    {
      "cell_type": "markdown",
      "source": [],
      "metadata": {
        "id": "kFq_yvRVAU3T"
      }
    },
    {
      "cell_type": "code",
      "source": [],
      "metadata": {
        "id": "4L6ABtuv_22-"
      },
      "execution_count": null,
      "outputs": []
    }
  ]
}